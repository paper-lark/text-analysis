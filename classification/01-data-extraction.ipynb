{
 "cells": [
  {
   "cell_type": "code",
   "execution_count": 7,
   "metadata": {
    "collapsed": true
   },
   "outputs": [],
   "source": [
    "import pandas as pd\n",
    "import xml.etree.ElementTree as ET"
   ]
  },
  {
   "cell_type": "code",
   "execution_count": 114,
   "outputs": [],
   "source": [
    "TRAIN = False\n",
    "\n",
    "if TRAIN:\n",
    "    INPUT_XML_FILE = './dataset/train.xml'\n",
    "    SCORES_OUT_FILE = './cache/train.parquet'\n",
    "else:\n",
    "    INPUT_XML_FILE = './dataset/test.xml'\n",
    "    SCORES_OUT_FILE = './cache/test.parquet'"
   ],
   "metadata": {
    "collapsed": false,
    "pycharm": {
     "name": "#%%\n"
    }
   }
  },
  {
   "cell_type": "code",
   "execution_count": 115,
   "outputs": [
    {
     "data": {
      "text/plain": "                                                 text beeline   mts megafon  \\\nid                                                                            \n1   RT @vestihitech: Лайфхак от Билайн: как зарабо...      -1  NULL    NULL   \n2   RT @yablochno_com: iPhone 5S и 5C заработали в...       1  NULL    NULL   \n3   RT @HAPKOTNKN: «Билайн» включил LTE для владел...       1  NULL    NULL   \n4   @domrist =&gt; Указанную информацию, пожалуйст...       0  NULL    NULL   \n5   Ура! Теперь заработает#Lte#4g#beeline#nanosim#...       1  NULL    NULL   \n\n   tele2 rostelecom komstar skylink  \nid                                   \n1   NULL       NULL    NULL    NULL  \n2   NULL       NULL    NULL    NULL  \n3   NULL       NULL    NULL    NULL  \n4   NULL       NULL    NULL    NULL  \n5   NULL       NULL    NULL    NULL  ",
      "text/html": "<div>\n<style scoped>\n    .dataframe tbody tr th:only-of-type {\n        vertical-align: middle;\n    }\n\n    .dataframe tbody tr th {\n        vertical-align: top;\n    }\n\n    .dataframe thead th {\n        text-align: right;\n    }\n</style>\n<table border=\"1\" class=\"dataframe\">\n  <thead>\n    <tr style=\"text-align: right;\">\n      <th></th>\n      <th>text</th>\n      <th>beeline</th>\n      <th>mts</th>\n      <th>megafon</th>\n      <th>tele2</th>\n      <th>rostelecom</th>\n      <th>komstar</th>\n      <th>skylink</th>\n    </tr>\n    <tr>\n      <th>id</th>\n      <th></th>\n      <th></th>\n      <th></th>\n      <th></th>\n      <th></th>\n      <th></th>\n      <th></th>\n      <th></th>\n    </tr>\n  </thead>\n  <tbody>\n    <tr>\n      <th>1</th>\n      <td>RT @vestihitech: Лайфхак от Билайн: как зарабо...</td>\n      <td>-1</td>\n      <td>NULL</td>\n      <td>NULL</td>\n      <td>NULL</td>\n      <td>NULL</td>\n      <td>NULL</td>\n      <td>NULL</td>\n    </tr>\n    <tr>\n      <th>2</th>\n      <td>RT @yablochno_com: iPhone 5S и 5C заработали в...</td>\n      <td>1</td>\n      <td>NULL</td>\n      <td>NULL</td>\n      <td>NULL</td>\n      <td>NULL</td>\n      <td>NULL</td>\n      <td>NULL</td>\n    </tr>\n    <tr>\n      <th>3</th>\n      <td>RT @HAPKOTNKN: «Билайн» включил LTE для владел...</td>\n      <td>1</td>\n      <td>NULL</td>\n      <td>NULL</td>\n      <td>NULL</td>\n      <td>NULL</td>\n      <td>NULL</td>\n      <td>NULL</td>\n    </tr>\n    <tr>\n      <th>4</th>\n      <td>@domrist =&amp;gt; Указанную информацию, пожалуйст...</td>\n      <td>0</td>\n      <td>NULL</td>\n      <td>NULL</td>\n      <td>NULL</td>\n      <td>NULL</td>\n      <td>NULL</td>\n      <td>NULL</td>\n    </tr>\n    <tr>\n      <th>5</th>\n      <td>Ура! Теперь заработает#Lte#4g#beeline#nanosim#...</td>\n      <td>1</td>\n      <td>NULL</td>\n      <td>NULL</td>\n      <td>NULL</td>\n      <td>NULL</td>\n      <td>NULL</td>\n      <td>NULL</td>\n    </tr>\n  </tbody>\n</table>\n</div>"
     },
     "execution_count": 115,
     "metadata": {},
     "output_type": "execute_result"
    }
   ],
   "source": [
    "tree = ET.parse(INPUT_XML_FILE)\n",
    "score_columns = ['beeline', 'mts', 'megafon', 'tele2', 'rostelecom', 'komstar', 'skylink']\n",
    "columns = ['id', 'text'] + score_columns\n",
    "df = pd.DataFrame.from_records(\n",
    "    [[record.find(f\"column[@name='{attr}']\").text for attr in columns] for record in tree.getroot().find('database').iter('table')],\n",
    "    columns=columns,\n",
    ")\n",
    "df['id'] = df['id'].astype('uint16')\n",
    "df['text'] = df['text'].astype('string')\n",
    "df.set_index('id', inplace=True)\n",
    "df.head()"
   ],
   "metadata": {
    "collapsed": false,
    "pycharm": {
     "name": "#%%\n"
    }
   }
  },
  {
   "cell_type": "code",
   "execution_count": 116,
   "outputs": [
    {
     "data": {
      "text/plain": "3845"
     },
     "execution_count": 116,
     "metadata": {},
     "output_type": "execute_result"
    }
   ],
   "source": [
    "len(df)"
   ],
   "metadata": {
    "collapsed": false,
    "pycharm": {
     "name": "#%%\n"
    }
   }
  },
  {
   "cell_type": "code",
   "execution_count": 117,
   "outputs": [
    {
     "data": {
      "text/plain": "                                                 text score\nid                                                         \n1   RT @vestihitech: Лайфхак от Билайн: как зарабо...    -1\n2   RT @yablochno_com: iPhone 5S и 5C заработали в...     1\n3   RT @HAPKOTNKN: «Билайн» включил LTE для владел...     1\n4   @domrist =&gt; Указанную информацию, пожалуйст...     0\n5   Ура! Теперь заработает#Lte#4g#beeline#nanosim#...     1",
      "text/html": "<div>\n<style scoped>\n    .dataframe tbody tr th:only-of-type {\n        vertical-align: middle;\n    }\n\n    .dataframe tbody tr th {\n        vertical-align: top;\n    }\n\n    .dataframe thead th {\n        text-align: right;\n    }\n</style>\n<table border=\"1\" class=\"dataframe\">\n  <thead>\n    <tr style=\"text-align: right;\">\n      <th></th>\n      <th>text</th>\n      <th>score</th>\n    </tr>\n    <tr>\n      <th>id</th>\n      <th></th>\n      <th></th>\n    </tr>\n  </thead>\n  <tbody>\n    <tr>\n      <th>1</th>\n      <td>RT @vestihitech: Лайфхак от Билайн: как зарабо...</td>\n      <td>-1</td>\n    </tr>\n    <tr>\n      <th>2</th>\n      <td>RT @yablochno_com: iPhone 5S и 5C заработали в...</td>\n      <td>1</td>\n    </tr>\n    <tr>\n      <th>3</th>\n      <td>RT @HAPKOTNKN: «Билайн» включил LTE для владел...</td>\n      <td>1</td>\n    </tr>\n    <tr>\n      <th>4</th>\n      <td>@domrist =&amp;gt; Указанную информацию, пожалуйст...</td>\n      <td>0</td>\n    </tr>\n    <tr>\n      <th>5</th>\n      <td>Ура! Теперь заработает#Lte#4g#beeline#nanosim#...</td>\n      <td>1</td>\n    </tr>\n  </tbody>\n</table>\n</div>"
     },
     "execution_count": 117,
     "metadata": {},
     "output_type": "execute_result"
    }
   ],
   "source": [
    "known_scores = {\n",
    "    '0': 0,\n",
    "    '-1': -1,\n",
    "    '1': 1,\n",
    "}\n",
    "\n",
    "def merge_scores(row):\n",
    "    score = next(filter(lambda x: x != 'NULL', row[score_columns]))\n",
    "    row['score'] = known_scores[score] if score in known_scores else None\n",
    "    return row\n",
    "\n",
    "score_df = df.apply(merge_scores, axis=1).drop(score_columns, axis=1).dropna(how='any', axis=0)\n",
    "score_df['score'] = pd.Categorical(score_df['score'].astype('int'))\n",
    "score_df.head()"
   ],
   "metadata": {
    "collapsed": false,
    "pycharm": {
     "name": "#%%\n"
    }
   }
  },
  {
   "cell_type": "code",
   "execution_count": 118,
   "outputs": [],
   "source": [
    "score_df.to_parquet(SCORES_OUT_FILE)"
   ],
   "metadata": {
    "collapsed": false,
    "pycharm": {
     "name": "#%%\n"
    }
   }
  },
  {
   "cell_type": "code",
   "execution_count": 119,
   "outputs": [
    {
     "data": {
      "text/plain": "0     2595\n-1     879\n1      371\nName: score, dtype: int64"
     },
     "execution_count": 119,
     "metadata": {},
     "output_type": "execute_result"
    }
   ],
   "source": [
    "score_df['score'].value_counts()"
   ],
   "metadata": {
    "collapsed": false,
    "pycharm": {
     "name": "#%%\n"
    }
   }
  },
  {
   "cell_type": "code",
   "execution_count": null,
   "outputs": [],
   "source": [],
   "metadata": {
    "collapsed": false,
    "pycharm": {
     "name": "#%%\n"
    }
   }
  }
 ],
 "metadata": {
  "kernelspec": {
   "display_name": "Python 3",
   "language": "python",
   "name": "python3"
  },
  "language_info": {
   "codemirror_mode": {
    "name": "ipython",
    "version": 2
   },
   "file_extension": ".py",
   "mimetype": "text/x-python",
   "name": "python",
   "nbconvert_exporter": "python",
   "pygments_lexer": "ipython2",
   "version": "2.7.6"
  }
 },
 "nbformat": 4,
 "nbformat_minor": 0
}