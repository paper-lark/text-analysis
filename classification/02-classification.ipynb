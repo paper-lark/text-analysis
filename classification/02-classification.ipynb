{
 "cells": [
  {
   "cell_type": "code",
   "execution_count": 233,
   "metadata": {
    "collapsed": true
   },
   "outputs": [],
   "source": [
    "import numpy as np\n",
    "import pandas as pd\n",
    "from pymystem3 import Mystem\n",
    "\n",
    "from scipy.sparse import find\n",
    "from sklearn.feature_extraction.text import CountVectorizer\n",
    "from sklearn.pipeline import Pipeline\n",
    "from sklearn.svm import SVC\n",
    "from sklearn.feature_extraction.text import TfidfTransformer\n",
    "from sklearn.model_selection import StratifiedKFold, GridSearchCV\n",
    "from sklearn.metrics import classification_report, confusion_matrix\n",
    "\n",
    "import seaborn as sns\n",
    "import matplotlib.pyplot as plt\n",
    "%matplotlib inline"
   ]
  },
  {
   "cell_type": "code",
   "execution_count": 173,
   "outputs": [
    {
     "data": {
      "text/plain": "                                                   text score\nid                                                           \n1     @mkomov Максим, Вашем письмо мы получили. Наши...     0\n2        «Мегафон» стал владельцем 50% акций «Евросети»     0\n3     RT @fuckkiev: “@EvaKobb: МТС Россия прислала ж...    -1\n4     ВИДЕО: http://t.co/PSMLAhR4fI Реклама со смехо...     1\n5     @parfenov1960 потому что МТС достало, а пчел н...    -1\n...                                                 ...   ...\n4996  Блогеры и журналисты Ставрополя публично проте...     0\n4997  В Крыму полностью отключили инфраструктуру «МТ...    -1\n4998  Кавказский #МегаФон предлагает новым корпорати...     1\n4999  28 июня с 14:00 до 22:00 на Адмиралтейской пло...     0\n5000                  Абоненты Tele2 выбирают смартфоны     0\n\n[4798 rows x 2 columns]",
      "text/html": "<div>\n<style scoped>\n    .dataframe tbody tr th:only-of-type {\n        vertical-align: middle;\n    }\n\n    .dataframe tbody tr th {\n        vertical-align: top;\n    }\n\n    .dataframe thead th {\n        text-align: right;\n    }\n</style>\n<table border=\"1\" class=\"dataframe\">\n  <thead>\n    <tr style=\"text-align: right;\">\n      <th></th>\n      <th>text</th>\n      <th>score</th>\n    </tr>\n    <tr>\n      <th>id</th>\n      <th></th>\n      <th></th>\n    </tr>\n  </thead>\n  <tbody>\n    <tr>\n      <th>1</th>\n      <td>@mkomov Максим, Вашем письмо мы получили. Наши...</td>\n      <td>0</td>\n    </tr>\n    <tr>\n      <th>2</th>\n      <td>«Мегафон» стал владельцем 50% акций «Евросети»</td>\n      <td>0</td>\n    </tr>\n    <tr>\n      <th>3</th>\n      <td>RT @fuckkiev: “@EvaKobb: МТС Россия прислала ж...</td>\n      <td>-1</td>\n    </tr>\n    <tr>\n      <th>4</th>\n      <td>ВИДЕО: http://t.co/PSMLAhR4fI Реклама со смехо...</td>\n      <td>1</td>\n    </tr>\n    <tr>\n      <th>5</th>\n      <td>@parfenov1960 потому что МТС достало, а пчел н...</td>\n      <td>-1</td>\n    </tr>\n    <tr>\n      <th>...</th>\n      <td>...</td>\n      <td>...</td>\n    </tr>\n    <tr>\n      <th>4996</th>\n      <td>Блогеры и журналисты Ставрополя публично проте...</td>\n      <td>0</td>\n    </tr>\n    <tr>\n      <th>4997</th>\n      <td>В Крыму полностью отключили инфраструктуру «МТ...</td>\n      <td>-1</td>\n    </tr>\n    <tr>\n      <th>4998</th>\n      <td>Кавказский #МегаФон предлагает новым корпорати...</td>\n      <td>1</td>\n    </tr>\n    <tr>\n      <th>4999</th>\n      <td>28 июня с 14:00 до 22:00 на Адмиралтейской пло...</td>\n      <td>0</td>\n    </tr>\n    <tr>\n      <th>5000</th>\n      <td>Абоненты Tele2 выбирают смартфоны</td>\n      <td>0</td>\n    </tr>\n  </tbody>\n</table>\n<p>4798 rows × 2 columns</p>\n</div>"
     },
     "execution_count": 173,
     "metadata": {},
     "output_type": "execute_result"
    }
   ],
   "source": [
    "train_df = pd.read_parquet('cache/train.parquet')\n",
    "test_df = pd.read_parquet('cache/test.parquet')\n",
    "train_df"
   ],
   "metadata": {
    "collapsed": false,
    "pycharm": {
     "name": "#%%\n"
    }
   }
  },
  {
   "cell_type": "code",
   "execution_count": 174,
   "outputs": [],
   "source": [
    "X_train, y_train = train_df['text'], train_df['score']\n",
    "X_test, y_test = test_df['text'], test_df['score']"
   ],
   "metadata": {
    "collapsed": false,
    "pycharm": {
     "name": "#%%\n"
    }
   }
  },
  {
   "cell_type": "code",
   "execution_count": 175,
   "outputs": [],
   "source": [
    "def where(mask, val):\n",
    "    out = mask.copy()\n",
    "    rows, cols, _ = find(mask)\n",
    "    for r, c in zip(rows, cols):\n",
    "        out[r, c] = val\n",
    "    return out"
   ],
   "metadata": {
    "collapsed": false,
    "pycharm": {
     "name": "#%%\n"
    }
   }
  },
  {
   "cell_type": "code",
   "execution_count": 176,
   "outputs": [],
   "source": [
    "class LemmaTokenizer:\n",
    "    def __init__(self):\n",
    "        self.m = Mystem()\n",
    "\n",
    "    def __call__(self, doc):\n",
    "        return list(filter(\n",
    "            lambda s: len(s.strip()) > 0,\n",
    "            self.m.lemmatize(doc)))"
   ],
   "metadata": {
    "collapsed": false,
    "pycharm": {
     "name": "#%%\n"
    }
   }
  },
  {
   "cell_type": "code",
   "execution_count": 177,
   "outputs": [
    {
     "name": "stderr",
     "output_type": "stream",
     "text": [
      "/Users/paperlark/miniforge3/envs/text-analysis/lib/python3.9/site-packages/sklearn/feature_extraction/text.py:516: UserWarning: The parameter 'token_pattern' will not be used since 'tokenizer' is not None'\n",
      "  warnings.warn(\n"
     ]
    },
    {
     "data": {
      "text/plain": "CountVectorizer(min_df=4, strip_accents='unicode',\n                tokenizer=<__main__.LemmaTokenizer object at 0x15b0fed60>)"
     },
     "execution_count": 177,
     "metadata": {},
     "output_type": "execute_result"
    }
   ],
   "source": [
    "v = CountVectorizer(min_df=4, strip_accents='unicode', tokenizer=LemmaTokenizer())\n",
    "_ = v.fit(X_train)"
   ],
   "metadata": {
    "collapsed": false,
    "pycharm": {
     "name": "#%%\n"
    }
   }
  },
  {
   "cell_type": "code",
   "execution_count": 219,
   "outputs": [],
   "source": [
    "pipe = Pipeline(steps=[\n",
    "    ('vectorizer', CountVectorizer(strip_accents='unicode', tokenizer=LemmaTokenizer(), max_df=0.95, min_df=1)),\n",
    "    ('transformer', TfidfTransformer(sublinear_tf=True, use_idf=True)),\n",
    "    ('classifier', SVC(random_state=2021, decision_function_shape='ovo'))\n",
    "])\n",
    "\n",
    "param_grid = {\n",
    "    # 'vectorizer__min_df': np.linspace(start=0, stop=0.05, num=6),\n",
    "    # 'vectorizer__max_df': np.linspace(start=0.95, stop=1, num=6),\n",
    "    # 'vectorizer__tokenizer': [None, LemmaTokenizer()],\n",
    "    # 'transformer': [\n",
    "    #     FunctionTransformer(lambda x: where(x > 0, 1)),\n",
    "    #     TfidfTransformer(sublinear_tf=False, use_idf=False), # nnc\n",
    "    #     TfidfTransformer(sublinear_tf=True, use_idf=False), # lnc\n",
    "    #     TfidfTransformer(sublinear_tf=False, use_idf=True), # ntc\n",
    "    #     TfidfTransformer(sublinear_tf=True, use_idf=True), # ltc\n",
    "    # ],\n",
    "    'classifier__gamma': np.linspace(start=0, stop=1, num=10),\n",
    "    'classifier__decision_function_shape': ['ovo', 'ovr'],\n",
    "}\n",
    "\n",
    "cv = GridSearchCV(\n",
    "    pipe,\n",
    "    param_grid,\n",
    "    n_jobs=-1,\n",
    "    cv=StratifiedKFold(n_splits=3, random_state=2021, shuffle=True),\n",
    "    scoring='accuracy',\n",
    ")\n",
    "_ = cv.fit(X_train, y_train)"
   ],
   "metadata": {
    "collapsed": false,
    "pycharm": {
     "name": "#%%\n"
    }
   }
  },
  {
   "cell_type": "code",
   "execution_count": 245,
   "outputs": [
    {
     "name": "stdout",
     "output_type": "stream",
     "text": [
      "SVC mean train accuracy: 0.759\n",
      "Optimal params: {'classifier__decision_function_shape': 'ovo', 'classifier__gamma': 1.0}\n"
     ]
    }
   ],
   "source": [
    "print('SVC mean train accuracy: {:.3}'.format(cv.best_score_))\n",
    "print('Optimal params: {}'.format(cv.best_params_))"
   ],
   "metadata": {
    "collapsed": false,
    "pycharm": {
     "name": "#%%\n"
    }
   }
  },
  {
   "cell_type": "code",
   "execution_count": 246,
   "outputs": [
    {
     "name": "stdout",
     "output_type": "stream",
     "text": [
      "              precision    recall  f1-score   support\n",
      "\n",
      "          -1      0.546     0.763     0.636       879\n",
      "           0      0.853     0.775     0.812      2595\n",
      "           1      0.402     0.280     0.330       371\n",
      "\n",
      "    accuracy                          0.724      3845\n",
      "   macro avg      0.600     0.606     0.593      3845\n",
      "weighted avg      0.739     0.724     0.725      3845\n",
      "\n"
     ]
    }
   ],
   "source": [
    "y_pred = cv.predict(X_test)\n",
    "print(classification_report(y_test, y_pred, digits=3))"
   ],
   "metadata": {
    "collapsed": false,
    "pycharm": {
     "name": "#%%\n"
    }
   }
  },
  {
   "cell_type": "code",
   "execution_count": 247,
   "outputs": [
    {
     "data": {
      "text/plain": "<Figure size 576x576 with 2 Axes>",
      "image/png": "[encoded data removed]"
     },
     "metadata": {
      "needs_background": "light"
     },
     "output_type": "display_data"
    }
   ],
   "source": [
    "plt.figure(figsize=(8,8))\n",
    "fig = sns.heatmap(confusion_matrix(y_test, y_pred), annot=True, fmt='4', cmap='Blues', xticklabels=(-1, 0, 1), yticklabels=(-1, 0, 1))\n",
    "plt.savefig('cache/confusion.png')"
   ],
   "metadata": {
    "collapsed": false,
    "pycharm": {
     "name": "#%%\n"
    }
   }
  },
  {
   "cell_type": "code",
   "execution_count": null,
   "outputs": [],
   "source": [],
   "metadata": {
    "collapsed": false,
    "pycharm": {
     "name": "#%%\n"
    }
   }
  }
 ],
 "metadata": {
  "kernelspec": {
   "display_name": "Python 3",
   "language": "python",
   "name": "python3"
  },
  "language_info": {
   "codemirror_mode": {
    "name": "ipython",
    "version": 2
   },
   "file_extension": ".py",
   "mimetype": "text/x-python",
   "name": "python",
   "nbconvert_exporter": "python",
   "pygments_lexer": "ipython2",
   "version": "2.7.6"
  }
 },
 "nbformat": 4,
 "nbformat_minor": 0
}